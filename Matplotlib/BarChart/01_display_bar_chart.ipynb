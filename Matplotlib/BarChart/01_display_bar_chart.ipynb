{
 "cells": [
  {
   "cell_type": "code",
   "execution_count": 1,
   "metadata": {},
   "outputs": [
    {
     "data": {
      "text/plain": [
       "<Figure size 640x480 with 1 Axes>"
      ]
     },
     "metadata": {},
     "output_type": "display_data"
    }
   ],
   "source": [
    "'''\n",
    "Created on 22/01/2020\n",
    "@author: B Akash\n",
    "'''\n",
    "'''\n",
    "problem statement:\n",
    " Write a Python programming to display a bar chart of the popularity of programming Languages. \n",
    "Sample data: \n",
    "Programming languages: Java, Python, PHP, JavaScript, C#, C++\n",
    "Popularity: 22.2, 17.6, 8.8, 8, 7.7, 6.7\n",
    "'''\n",
    "\n",
    "from matplotlib import pyplot as plt\n",
    "\n",
    "languages=['Java','Python','PHP','JavaScript','C#','C++']\n",
    "popularity=[22.2,17.6,8.8,8,7.7,6.7]\n",
    "\n",
    "plt.bar(languages,popularity)\n",
    "plt.title(\"Popularity of programming languages\")\n",
    "plt.xlabel(\"Programming languages\")\n",
    "plt.ylabel(\"Popularity\")\n",
    "\n",
    "plt.show()"
   ]
  },
  {
   "cell_type": "code",
   "execution_count": null,
   "metadata": {},
   "outputs": [],
   "source": []
  }
 ],
 "metadata": {
  "kernelspec": {
   "display_name": "Python 3",
   "language": "python",
   "name": "python3"
  },
  "language_info": {
   "codemirror_mode": {
    "name": "ipython",
    "version": 3
   },
   "file_extension": ".py",
   "mimetype": "text/x-python",
   "name": "python",
   "nbconvert_exporter": "python",
   "pygments_lexer": "ipython3",
   "version": "3.7.4"
  }
 },
 "nbformat": 4,
 "nbformat_minor": 2
}

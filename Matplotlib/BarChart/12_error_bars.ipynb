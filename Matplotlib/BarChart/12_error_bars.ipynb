{
 "cells": [
  {
   "cell_type": "code",
   "execution_count": null,
   "metadata": {},
   "outputs": [],
   "source": [
    "'''\n",
    "Created on 23/01/2020\n",
    "@author: B Akash\n",
    "'''\n",
    "'''\n",
    "problem statement:\n",
    " Write a Python program to create bar plots with error bars on the same figure. Sample Date\n",
    "Mean velocity: 0.2474, 0.1235, 0.1737, 0.1824\n",
    "Standard deviation of velocity: 0.3314, 0.2278, 0.2836, 0.2645\n",
    "'''"
   ]
  },
  {
   "cell_type": "code",
   "execution_count": 79,
   "metadata": {},
   "outputs": [
    {
     "data": {
      "image/png": "[encoded data removed]",
      "text/plain": [
       "<Figure size 432x288 with 1 Axes>"
      ]
     },
     "metadata": {
      "needs_background": "light"
     },
     "output_type": "display_data"
    }
   ],
   "source": [
    "from matplotlib import pyplot as plt\n",
    "import numpy as np\n",
    "\n",
    "mean=[0.2474, 0.1235, 0.1737, 0.1824]\n",
    "deviation=[0.3314, 0.2278, 0.2836, 0.2645]\n",
    "index=np.arange(len(mean))\n",
    "\n",
    "plt.bar(index,mean,0.35,yerr=deviation, color=\"blue\")\n",
    "plt.xlabel(\"Velocity\")\n",
    "plt.ylabel(\"Score\")\n",
    "plt.title(\"Bar plots with error bars\")\n",
    "plt.minorticks_on()\n",
    "plt.show()"
   ]
  },
  {
   "cell_type": "code",
   "execution_count": null,
   "metadata": {},
   "outputs": [],
   "source": []
  },
  {
   "cell_type": "code",
   "execution_count": null,
   "metadata": {},
   "outputs": [],
   "source": []
  }
 ],
 "metadata": {
  "kernelspec": {
   "display_name": "Python 3",
   "language": "python",
   "name": "python3"
  },
  "language_info": {
   "codemirror_mode": {
    "name": "ipython",
    "version": 3
   },
   "file_extension": ".py",
   "mimetype": "text/x-python",
   "name": "python",
   "nbconvert_exporter": "python",
   "pygments_lexer": "ipython3",
   "version": "3.7.4"
  }
 },
 "nbformat": 4,
 "nbformat_minor": 2
}

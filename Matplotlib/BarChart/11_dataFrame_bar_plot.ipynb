{
 "cells": [
  {
   "cell_type": "code",
   "execution_count": null,
   "metadata": {},
   "outputs": [],
   "source": [
    "'''\n",
    "Created on 23/01/2020\n",
    "@author: B Akash\n",
    "'''\n",
    "'''\n",
    "problem statement:\n",
    "Write a Python program to create bar plot from a DataFrame. \n",
    "Sample Data Frame:\n",
    "a b c d e \n",
    "2 4,8,5,7,6\n",
    "4 2,3,4,2,6\n",
    "6 4,7,4,7,8\n",
    "8 2,6,4,8,6\n",
    "10 2,4,3,3,2\n",
    "\n",
    "'''"
   ]
  },
  {
   "cell_type": "code",
   "execution_count": 69,
   "metadata": {},
   "outputs": [
    {
     "data": {
      "image/png": "[encoded data removed]",
      "text/plain": [
       "<Figure size 432x288 with 1 Axes>"
      ]
     },
     "metadata": {
      "needs_background": "light"
     },
     "output_type": "display_data"
    }
   ],
   "source": [
    "from matplotlib import pyplot as plt\n",
    "import numpy as np\n",
    "\n",
    "men=[22,30,35,35,26]\n",
    "women=[25,32,30,35,29]\n",
    "group=np.arange(len(men))\n",
    "\n",
    "fig, axis =plt.subplots()\n",
    "\n",
    "\n",
    "plt.xlabel(\"Scores\",color='maroon')\n",
    "plt.ylabel(\"Groups\",color='maroon')\n",
    "\n",
    "plt.bar(group,men,0.35,alpha=0.8, color='black',label='Men')\n",
    "plt.bar(group+0.35,women,0.35,alpha=0.8, color='gray',label='Women')\n",
    "plt.xticks(group+0.35,('G1','G2','G3','G4','G5'))\n",
    "\n",
    "plt.title(\"Scores of men and women\", color='red')\n",
    "plt.show()\n"
   ]
  },
  {
   "cell_type": "code",
   "execution_count": null,
   "metadata": {},
   "outputs": [],
   "source": []
  },
  {
   "cell_type": "code",
   "execution_count": null,
   "metadata": {},
   "outputs": [],
   "source": []
  }
 ],
 "metadata": {
  "kernelspec": {
   "display_name": "Python 3",
   "language": "python",
   "name": "python3"
  },
  "language_info": {
   "codemirror_mode": {
    "name": "ipython",
    "version": 3
   },
   "file_extension": ".py",
   "mimetype": "text/x-python",
   "name": "python",
   "nbconvert_exporter": "python",
   "pygments_lexer": "ipython3",
   "version": "3.7.4"
  }
 },
 "nbformat": 4,
 "nbformat_minor": 2
}
